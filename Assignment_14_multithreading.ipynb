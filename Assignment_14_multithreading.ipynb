{
 "cells": [
  {
   "cell_type": "markdown",
   "id": "57d7dfff",
   "metadata": {},
   "source": [
    "#### Q1. what is multithreading in python? hy is it used? Name the module used to handle threads in python"
   ]
  },
  {
   "cell_type": "code",
   "execution_count": null,
   "id": "8fc6be89",
   "metadata": {},
   "outputs": [],
   "source": [
    "In short, multithreading in Python is the concurrent execution of multiple threads within a single process, using the \n",
    "`threading` module. It is used to achieve parallelism, improve program performance, maintain responsiveness, \n",
    "share resources, and simplify code organization in scenarios where multiple tasks can be executed simultaneously. \n",
    "However, the Global Interpreter Lock (GIL) can limit the true parallelism for CPU-bound tasks, so the `multiprocessing`\n",
    "module is often used for such situations."
   ]
  },
  {
   "cell_type": "markdown",
   "id": "ef29bbad",
   "metadata": {},
   "source": [
    "#### Q2. Why threading module used? rite the use of the following functions ( activeCount, currentThread, enumerate)"
   ]
  },
  {
   "cell_type": "code",
   "execution_count": null,
   "id": "257b50ef",
   "metadata": {},
   "outputs": [],
   "source": [
    "he threading module in Python is used to create, manage, and work with threads.\n",
    "It provides a high-level interface for thread management and synchronization in multithreaded applications. "
   ]
  },
  {
   "cell_type": "code",
   "execution_count": null,
   "id": "a4301cf1",
   "metadata": {},
   "outputs": [],
   "source": [
    "1. activeCount():\n",
    "\n",
    "import threading\n",
    "\n",
    "threads = [threading.Thread(target=lambda: None) for _ in range(5)]\n",
    "[th.start() for th in threads]\n",
    "active_count = threading.activeCount()\n",
    "print(f\"Number of active threads: {active_count}\")\n",
    "\n",
    "\n",
    "2. currentThread():\n",
    "python\n",
    "import threading\n",
    "\n",
    "def print_current_thread_name():\n",
    "    print(f\"Current thread name: {threading.currentThread().name}\")\n",
    "\n",
    "t1 = threading.Thread(target=print_current_thread_name)\n",
    "t2 = threading.Thread(target=print_current_thread_name)\n",
    "\n",
    "[t.start() for t in [t1, t2]]\n",
    "\n",
    "3. enumerate():\n",
    "\n",
    "import threading\n",
    "\n",
    "threads = [threading.Thread(target=lambda: None) for _ in range(3)]\n",
    "[t.start() for t in threads]\n",
    "\n",
    "active_threads = threading.enumerate()\n",
    "[thread.join() for thread in active_threads]\n",
    "[threading.Thread(target=lambda: None).start() for _ in range(2)]  # Start more threads\n",
    "active_threads = threading.enumerate()\n"
   ]
  },
  {
   "cell_type": "markdown",
   "id": "3116cc95",
   "metadata": {},
   "source": [
    "#### 3. Explain the following functions ( run,start,join ,isAlive)"
   ]
  },
  {
   "cell_type": "code",
   "execution_count": null,
   "id": "9c3231de",
   "metadata": {},
   "outputs": [],
   "source": [
    "Of course, here's a concise explanation of each of the mentioned functions:\n",
    "\n",
    "1. run():\n",
    "   - Custom method defined in a subclass of `threading.Thread` to specify the thread's behavior when it's started.\n",
    "\n",
    "2. start():\n",
    "   - Initiates the execution of a thread by running its `run()` method in a new thread.\n",
    "\n",
    "3. join():\n",
    "   - Blocks the program until the thread it's called on finishes its work, ensuring synchronization.\n",
    "\n",
    "4. isAlive (or is_alive()):\n",
    "   - An attribute or method used to check if a thread is currently active (True) or has finished (False)."
   ]
  },
  {
   "cell_type": "markdown",
   "id": "e829c71d",
   "metadata": {},
   "source": [
    "#### Q4. write a python program to create two threads. Thread one must print the list of squares and thread two must print the list of cubes"
   ]
  },
  {
   "cell_type": "code",
   "execution_count": 2,
   "id": "af50bfbf",
   "metadata": {},
   "outputs": [
    {
     "name": "stdout",
     "output_type": "stream",
     "text": [
      "Square of 1 is 1\n",
      "Square of 2 is 4\n",
      "Square of 3 is 9\n",
      "Square of 4 is 16\n",
      "Square of 5 is 25\n",
      "Cube of 1 is 1\n",
      "Cube of 2 is 8\n",
      "Cube of 3 is 27\n",
      "Cube of 4 is 64\n",
      "Cube of 5 is 125\n",
      "Both threads have finished.\n"
     ]
    }
   ],
   "source": [
    "import threading\n",
    "\n",
    "def print_squares():\n",
    "    for i in range(1, 6):\n",
    "        print(f\"Square of {i} is {i**2}\")\n",
    "\n",
    "def print_cubes():\n",
    "    for i in range(1, 6):\n",
    "        print(f\"Cube of {i} is {i**3}\")\n",
    "\n",
    "# Create two threads\n",
    "thread1 = threading.Thread(target=print_squares)\n",
    "thread2 = threading.Thread(target=print_cubes)\n",
    "\n",
    "# Start the threads\n",
    "thread1.start()\n",
    "thread2.start()\n",
    "\n",
    "# Wait for both threads to finish\n",
    "thread1.join()\n",
    "thread2.join()\n",
    "\n",
    "print(\"Both threads have finished.\")\n"
   ]
  },
  {
   "cell_type": "markdown",
   "id": "991bc51b",
   "metadata": {},
   "source": [
    "#### Q5. State advantages and disadvantages of multithreading"
   ]
  },
  {
   "cell_type": "code",
   "execution_count": null,
   "id": "e845f88d",
   "metadata": {},
   "outputs": [],
   "source": [
    "Certainly, here are the advantages and disadvantages of multithreading in brief:\n",
    "\n",
    "## Advantages:\n",
    "\n",
    "1. Improved Performance: Multithreading can boost performance, especially for I/O-bound tasks and on multi-core processors.\n",
    "\n",
    "2. Responsiveness: It keeps applications responsive by running time-consuming tasks in the background.\n",
    "\n",
    "3. Resource Sharing: Threads share resources, making data exchange and collaboration easier.\n",
    "\n",
    "4. Simplified Code: Multithreading can lead to cleaner and more organized code.\n",
    "\n",
    "5. Economical: Threads are more lightweight than processes, reducing resource consumption.\n",
    "\n",
    "## Disadvantages:\n",
    "\n",
    "1. Complexity: Multithreading introduces complexity and challenges in handling synchronization and concurrency issues.\n",
    "\n",
    "2. Synchronization Overhead: Synchronization mechanisms can reduce performance gains due to the need to coordinate access to shared resources.\n",
    "\n",
    "3. Concurrency Bugs: Multithreaded code is prone to hard-to-debug concurrency issues like race conditions.\n",
    "\n",
    "4. Global Interpreter Lock (GIL): In Python, GIL limits true parallel execution in CPython, affecting CPU-bound tasks.\n",
    "\n",
    "5. Platform Dependency: Multithreading behavior may vary across platforms, leading to potential compatibility issues."
   ]
  },
  {
   "cell_type": "markdown",
   "id": "768e5f96",
   "metadata": {},
   "source": [
    "#### Q6. Explain deadlocks and race conditions."
   ]
  },
  {
   "cell_type": "code",
   "execution_count": null,
   "id": "6062a453",
   "metadata": {},
   "outputs": [],
   "source": [
    "\n",
    "Deadlock:\n",
    "- Deadlock is like a traffic jam where multiple cars are waiting for each other to move, but no one does, causing everyone to be stuck.\n",
    "- It happens when different parts of a program are waiting for each other, so nothing can proceed.\n",
    "- To avoid deadlocks, we need clear rules about who goes first and timeouts to handle standstills.\n",
    "\n",
    "Race Condition:\n",
    "- A race condition is like two people racing to use a computer, and the result depends on who gets there first.\n",
    "- It occurs when multiple parts of a program access shared data at the same time, leading to unpredictable outcomes.\n",
    "- Preventing race conditions involves synchronizing access to shared data to ensure orderly interactions."
   ]
  }
 ],
 "metadata": {
  "kernelspec": {
   "display_name": "Python 3 (ipykernel)",
   "language": "python",
   "name": "python3"
  },
  "language_info": {
   "codemirror_mode": {
    "name": "ipython",
    "version": 3
   },
   "file_extension": ".py",
   "mimetype": "text/x-python",
   "name": "python",
   "nbconvert_exporter": "python",
   "pygments_lexer": "ipython3",
   "version": "3.9.13"
  }
 },
 "nbformat": 4,
 "nbformat_minor": 5
}
